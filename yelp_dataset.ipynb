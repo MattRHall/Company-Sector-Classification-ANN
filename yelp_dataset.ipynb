{
 "cells": [
  {
   "cell_type": "code",
   "execution_count": 35,
   "metadata": {},
   "outputs": [],
   "source": [
    "import pandas as pd\n",
    "import json\n",
    "import os\n",
    "from collections import Counter\n",
    "import numpy as np\n",
    "import matplotlib.pyplot as plt"
   ]
  },
  {
   "cell_type": "code",
   "execution_count": null,
   "metadata": {},
   "outputs": [],
   "source": [
    "from tensorflow.keras.preprocessing.text import Tokenizer\n",
    "from tensorflow.keras.preprocessing.sequence import pad_sequences\n",
    "from tensorflow.keras.utils import to_categorical\n",
    "from sklearn.model_selection import train_test_split"
   ]
  },
  {
   "cell_type": "markdown",
   "metadata": {},
   "source": [
    "# Preprocess Data\n",
    "Import data. Remove redundant columns. Split categories into list. Create a counter of all categories, and assign each company to the most popular one. For example, [Gastropubs, Food, Beer Gardens, Restaurant] -> restaurant. Map unique categories to integers."
   ]
  },
  {
   "cell_type": "code",
   "execution_count": 2,
   "metadata": {},
   "outputs": [],
   "source": [
    "df = pd.read_json(\"C:\\Datasets\\yelp\\yelp_academic_dataset_business.json\", lines=True)\n",
    "df = df.drop(columns = [\"business_id\", \"address\", \"city\", \"state\", \"postal_code\", \"latitude\", \"longitude\", \"stars\", \"review_count\", \"is_open\", \"attributes\",\"hours\"])\n",
    "df.dropna(inplace = True)\n",
    "df[\"categories\"] = df[\"categories\"].str.split(\",\")\n",
    "df[\"name\"] = df[\"name\"].str.lower()"
   ]
  },
  {
   "cell_type": "code",
   "execution_count": 3,
   "metadata": {},
   "outputs": [
    {
     "data": {
      "text/html": [
       "<div>\n",
       "<style scoped>\n",
       "    .dataframe tbody tr th:only-of-type {\n",
       "        vertical-align: middle;\n",
       "    }\n",
       "\n",
       "    .dataframe tbody tr th {\n",
       "        vertical-align: top;\n",
       "    }\n",
       "\n",
       "    .dataframe thead th {\n",
       "        text-align: right;\n",
       "    }\n",
       "</style>\n",
       "<table border=\"1\" class=\"dataframe\">\n",
       "  <thead>\n",
       "    <tr style=\"text-align: right;\">\n",
       "      <th></th>\n",
       "      <th>name</th>\n",
       "      <th>categories</th>\n",
       "    </tr>\n",
       "  </thead>\n",
       "  <tbody>\n",
       "    <tr>\n",
       "      <th>0</th>\n",
       "      <td>oskar blues taproom</td>\n",
       "      <td>[Gastropubs,  Food,  Beer Gardens,  Restaurant...</td>\n",
       "    </tr>\n",
       "    <tr>\n",
       "      <th>1</th>\n",
       "      <td>flying elephants at pdx</td>\n",
       "      <td>[Salad,  Soup,  Sandwiches,  Delis,  Restauran...</td>\n",
       "    </tr>\n",
       "    <tr>\n",
       "      <th>2</th>\n",
       "      <td>the reclaimory</td>\n",
       "      <td>[Antiques,  Fashion,  Used,  Vintage &amp; Consign...</td>\n",
       "    </tr>\n",
       "    <tr>\n",
       "      <th>3</th>\n",
       "      <td>great clips</td>\n",
       "      <td>[Beauty &amp; Spas,  Hair Salons]</td>\n",
       "    </tr>\n",
       "    <tr>\n",
       "      <th>4</th>\n",
       "      <td>crossfit terminus</td>\n",
       "      <td>[Gyms,  Active Life,  Interval Training Gyms, ...</td>\n",
       "    </tr>\n",
       "  </tbody>\n",
       "</table>\n",
       "</div>"
      ],
      "text/plain": [
       "                      name                                         categories\n",
       "0      oskar blues taproom  [Gastropubs,  Food,  Beer Gardens,  Restaurant...\n",
       "1  flying elephants at pdx  [Salad,  Soup,  Sandwiches,  Delis,  Restauran...\n",
       "2           the reclaimory  [Antiques,  Fashion,  Used,  Vintage & Consign...\n",
       "3              great clips                      [Beauty & Spas,  Hair Salons]\n",
       "4        crossfit terminus  [Gyms,  Active Life,  Interval Training Gyms, ..."
      ]
     },
     "execution_count": 3,
     "metadata": {},
     "output_type": "execute_result"
    }
   ],
   "source": [
    "df.head()"
   ]
  },
  {
   "cell_type": "code",
   "execution_count": 4,
   "metadata": {},
   "outputs": [],
   "source": [
    "cat_counter = Counter()\n",
    "for i in range(len(df)):\n",
    "    cats = df.iloc[i, 1]\n",
    "    for cat in cats:\n",
    "        cat_counter[cat.lower().strip()] += 1\n",
    "\n",
    "def cat_selector(x, cat_counter):\n",
    "    final_word = \"\"\n",
    "    largest_word = 0\n",
    "    for word in x:\n",
    "        word = word.lower().strip()\n",
    "        if cat_counter[word] > largest_word:\n",
    "            largest_word = cat_counter[word]\n",
    "            final_word = word\n",
    "    return final_word\n",
    "\n",
    "df[\"cat1\"] = df.apply(lambda x: cat_selector(x[\"categories\"], cat_counter), axis = 1)"
   ]
  },
  {
   "cell_type": "code",
   "execution_count": 5,
   "metadata": {},
   "outputs": [
    {
     "data": {
      "text/html": [
       "<div>\n",
       "<style scoped>\n",
       "    .dataframe tbody tr th:only-of-type {\n",
       "        vertical-align: middle;\n",
       "    }\n",
       "\n",
       "    .dataframe tbody tr th {\n",
       "        vertical-align: top;\n",
       "    }\n",
       "\n",
       "    .dataframe thead th {\n",
       "        text-align: right;\n",
       "    }\n",
       "</style>\n",
       "<table border=\"1\" class=\"dataframe\">\n",
       "  <thead>\n",
       "    <tr style=\"text-align: right;\">\n",
       "      <th></th>\n",
       "      <th>name</th>\n",
       "      <th>categories</th>\n",
       "      <th>cat1</th>\n",
       "    </tr>\n",
       "  </thead>\n",
       "  <tbody>\n",
       "    <tr>\n",
       "      <th>0</th>\n",
       "      <td>oskar blues taproom</td>\n",
       "      <td>[Gastropubs,  Food,  Beer Gardens,  Restaurant...</td>\n",
       "      <td>restaurants</td>\n",
       "    </tr>\n",
       "    <tr>\n",
       "      <th>1</th>\n",
       "      <td>flying elephants at pdx</td>\n",
       "      <td>[Salad,  Soup,  Sandwiches,  Delis,  Restauran...</td>\n",
       "      <td>restaurants</td>\n",
       "    </tr>\n",
       "    <tr>\n",
       "      <th>2</th>\n",
       "      <td>the reclaimory</td>\n",
       "      <td>[Antiques,  Fashion,  Used,  Vintage &amp; Consign...</td>\n",
       "      <td>shopping</td>\n",
       "    </tr>\n",
       "    <tr>\n",
       "      <th>3</th>\n",
       "      <td>great clips</td>\n",
       "      <td>[Beauty &amp; Spas,  Hair Salons]</td>\n",
       "      <td>beauty &amp; spas</td>\n",
       "    </tr>\n",
       "    <tr>\n",
       "      <th>4</th>\n",
       "      <td>crossfit terminus</td>\n",
       "      <td>[Gyms,  Active Life,  Interval Training Gyms, ...</td>\n",
       "      <td>active life</td>\n",
       "    </tr>\n",
       "  </tbody>\n",
       "</table>\n",
       "</div>"
      ],
      "text/plain": [
       "                      name                                         categories  \\\n",
       "0      oskar blues taproom  [Gastropubs,  Food,  Beer Gardens,  Restaurant...   \n",
       "1  flying elephants at pdx  [Salad,  Soup,  Sandwiches,  Delis,  Restauran...   \n",
       "2           the reclaimory  [Antiques,  Fashion,  Used,  Vintage & Consign...   \n",
       "3              great clips                      [Beauty & Spas,  Hair Salons]   \n",
       "4        crossfit terminus  [Gyms,  Active Life,  Interval Training Gyms, ...   \n",
       "\n",
       "            cat1  \n",
       "0    restaurants  \n",
       "1    restaurants  \n",
       "2       shopping  \n",
       "3  beauty & spas  \n",
       "4    active life  "
      ]
     },
     "execution_count": 5,
     "metadata": {},
     "output_type": "execute_result"
    }
   ],
   "source": [
    "df.head()"
   ]
  },
  {
   "cell_type": "code",
   "execution_count": 6,
   "metadata": {},
   "outputs": [
    {
     "data": {
      "text/html": [
       "<div>\n",
       "<style scoped>\n",
       "    .dataframe tbody tr th:only-of-type {\n",
       "        vertical-align: middle;\n",
       "    }\n",
       "\n",
       "    .dataframe tbody tr th {\n",
       "        vertical-align: top;\n",
       "    }\n",
       "\n",
       "    .dataframe thead th {\n",
       "        text-align: right;\n",
       "    }\n",
       "</style>\n",
       "<table border=\"1\" class=\"dataframe\">\n",
       "  <thead>\n",
       "    <tr style=\"text-align: right;\">\n",
       "      <th></th>\n",
       "      <th>name</th>\n",
       "      <th>categories</th>\n",
       "      <th>cat1</th>\n",
       "      <th>cat1_idx</th>\n",
       "    </tr>\n",
       "  </thead>\n",
       "  <tbody>\n",
       "    <tr>\n",
       "      <th>0</th>\n",
       "      <td>oskar blues taproom</td>\n",
       "      <td>[Gastropubs,  Food,  Beer Gardens,  Restaurant...</td>\n",
       "      <td>restaurants</td>\n",
       "      <td>0</td>\n",
       "    </tr>\n",
       "    <tr>\n",
       "      <th>1</th>\n",
       "      <td>flying elephants at pdx</td>\n",
       "      <td>[Salad,  Soup,  Sandwiches,  Delis,  Restauran...</td>\n",
       "      <td>restaurants</td>\n",
       "      <td>0</td>\n",
       "    </tr>\n",
       "    <tr>\n",
       "      <th>2</th>\n",
       "      <td>the reclaimory</td>\n",
       "      <td>[Antiques,  Fashion,  Used,  Vintage &amp; Consign...</td>\n",
       "      <td>shopping</td>\n",
       "      <td>1</td>\n",
       "    </tr>\n",
       "    <tr>\n",
       "      <th>3</th>\n",
       "      <td>great clips</td>\n",
       "      <td>[Beauty &amp; Spas,  Hair Salons]</td>\n",
       "      <td>beauty &amp; spas</td>\n",
       "      <td>2</td>\n",
       "    </tr>\n",
       "    <tr>\n",
       "      <th>4</th>\n",
       "      <td>crossfit terminus</td>\n",
       "      <td>[Gyms,  Active Life,  Interval Training Gyms, ...</td>\n",
       "      <td>active life</td>\n",
       "      <td>3</td>\n",
       "    </tr>\n",
       "  </tbody>\n",
       "</table>\n",
       "</div>"
      ],
      "text/plain": [
       "                      name                                         categories  \\\n",
       "0      oskar blues taproom  [Gastropubs,  Food,  Beer Gardens,  Restaurant...   \n",
       "1  flying elephants at pdx  [Salad,  Soup,  Sandwiches,  Delis,  Restauran...   \n",
       "2           the reclaimory  [Antiques,  Fashion,  Used,  Vintage & Consign...   \n",
       "3              great clips                      [Beauty & Spas,  Hair Salons]   \n",
       "4        crossfit terminus  [Gyms,  Active Life,  Interval Training Gyms, ...   \n",
       "\n",
       "            cat1  cat1_idx  \n",
       "0    restaurants         0  \n",
       "1    restaurants         0  \n",
       "2       shopping         1  \n",
       "3  beauty & spas         2  \n",
       "4    active life         3  "
      ]
     },
     "execution_count": 6,
     "metadata": {},
     "output_type": "execute_result"
    }
   ],
   "source": [
    "cat_to_idx = dict(zip(df[\"cat1\"].unique(), range(len(df[\"cat1\"].unique()))))\n",
    "df[\"cat1_idx\"] = df[\"cat1\"].map(cat_to_idx)\n",
    "df.head()\n"
   ]
  },
  {
   "cell_type": "markdown",
   "metadata": {},
   "source": [
    "# Prepare Data\n",
    "Tokenize company names. Turn tokens to integers. Pad sequences of integers with 0s (max of 10). One hot encode categories. Create a dictionary **idx2classes** that maps class integer to class name. Create dictionary **idx2word** that maps indices to words, and dictionary **word2idx** that maps words to indices."
   ]
  },
  {
   "cell_type": "code",
   "execution_count": 8,
   "metadata": {},
   "outputs": [],
   "source": [
    "max_len = 10"
   ]
  },
  {
   "cell_type": "code",
   "execution_count": 9,
   "metadata": {},
   "outputs": [
    {
     "name": "stdout",
     "output_type": "stream",
     "text": [
      "Numbers records: 160470, Max_length: 10\n"
     ]
    }
   ],
   "source": [
    "text_sequences = df[\"name\"].to_list()\n",
    "tokenizer = Tokenizer()\n",
    "tokenizer.fit_on_texts(text_sequences)\n",
    "text_sequences = tokenizer.texts_to_sequences(text_sequences)\n",
    "text_sequences = pad_sequences(text_sequences, maxlen = 10, padding='post', truncating='post')\n",
    "\n",
    "num_records = len(text_sequences)\n",
    "max_seqlen = len(text_sequences[0])\n",
    "print(f'Numbers records: {len(text_sequences)}, Max_length: {len(text_sequences[0])}')"
   ]
  },
  {
   "cell_type": "code",
   "execution_count": 10,
   "metadata": {},
   "outputs": [
    {
     "name": "stdout",
     "output_type": "stream",
     "text": [
      "Numbers records: 160470\n"
     ]
    }
   ],
   "source": [
    "num_classes = len(df[\"cat1\"].unique())\n",
    "cat_labels = to_categorical(df[\"cat1_idx\"].to_list(), num_classes=num_classes)\n",
    "print(f'Numbers records: {len(text_sequences)}')"
   ]
  },
  {
   "cell_type": "code",
   "execution_count": 57,
   "metadata": {},
   "outputs": [
    {
     "name": "stdout",
     "output_type": "stream",
     "text": [
      "{0: 'restaurants', 1: 'shopping', 2: 'beauty & spas', 3: 'active life', 4: 'health & medical', 5: 'food', 6: 'automotive', 7: 'event planning & services', 8: 'education', 9: 'local services', 10: 'home services', 11: 'nightlife', 12: 'pets', 13: 'hotels & travel', 14: 'financial services', 15: 'arts & entertainment', 16: 'religious organizations', 17: 'public services & government', 18: 'professional services', 19: 'mass media', 20: 'local flavor'}\n"
     ]
    }
   ],
   "source": [
    "idx2classes = dict(zip(range(len(df[\"cat1\"].unique())),df[\"cat1\"].unique()))\n",
    "print(idx2classes)"
   ]
  },
  {
   "cell_type": "code",
   "execution_count": 11,
   "metadata": {},
   "outputs": [
    {
     "name": "stdout",
     "output_type": "stream",
     "text": [
      "Vocab size: 47699\n"
     ]
    }
   ],
   "source": [
    "word2idx = tokenizer.word_index\n",
    "idx2word = {v:k for k,v in word2idx.items()}\n",
    "word2idx[\"PAD\"] = 0\n",
    "idx2word[0] = \"PAD\"\n",
    "vocab_size = len(word2idx)\n",
    "print(f'Vocab size: {vocab_size}')"
   ]
  },
  {
   "cell_type": "markdown",
   "metadata": {},
   "source": [
    "# Build Embedding Matrix\n",
    "Download list of models in gensim. Download model. Create embedding matrix given vocabulary. "
   ]
  },
  {
   "cell_type": "code",
   "execution_count": 14,
   "metadata": {},
   "outputs": [
    {
     "name": "stdout",
     "output_type": "stream",
     "text": [
      "['fasttext-wiki-news-subwords-300', 'conceptnet-numberbatch-17-06-300', 'word2vec-ruscorpora-300', 'word2vec-google-news-300', 'glove-wiki-gigaword-50', 'glove-wiki-gigaword-100', 'glove-wiki-gigaword-200', 'glove-wiki-gigaword-300', 'glove-twitter-25', 'glove-twitter-50', 'glove-twitter-100', 'glove-twitter-200', '__testing_word2vec-matrix-synopsis']\n"
     ]
    }
   ],
   "source": [
    "import gensim.downloader\n",
    "print(list(gensim.downloader.info()['models'].keys()))"
   ]
  },
  {
   "cell_type": "code",
   "execution_count": 15,
   "metadata": {},
   "outputs": [],
   "source": [
    "glove_vectors = gensim.downloader.load('glove-wiki-gigaword-300')"
   ]
  },
  {
   "cell_type": "code",
   "execution_count": 16,
   "metadata": {},
   "outputs": [],
   "source": [
    "def build_embedding_matrix(sequences, word2idx, embedding_dim, embedding_file, word_vectors):\n",
    "    if os.path.exists(embedding_file):\n",
    "        E = np.load(embedding_file)\n",
    "    else:\n",
    "        vocab_size = len(word2idx)\n",
    "        E = np.zeros((vocab_size, embedding_dim))\n",
    "        for word, idx in word2idx.items():\n",
    "            try:\n",
    "                E[idx] = word_vectors[word]\n",
    "            except KeyError:\n",
    "                pass\n",
    "        np.save(embedding_file, E)\n",
    "    return E"
   ]
  },
  {
   "cell_type": "code",
   "execution_count": 17,
   "metadata": {},
   "outputs": [
    {
     "name": "stdout",
     "output_type": "stream",
     "text": [
      "Embedding matrix shape: (47699, 300)\n"
     ]
    }
   ],
   "source": [
    "embedding_dim = 300\n",
    "embedding_numpy_file = os.path.join(\"data\", \"embeddings.npy\")\n",
    "E = build_embedding_matrix(text_sequences, word2idx, 300, embedding_numpy_file, glove_vectors)\n",
    "print(f'Embedding matrix shape: {E.shape}')"
   ]
  },
  {
   "cell_type": "markdown",
   "metadata": {},
   "source": [
    "# Split Dataset\n",
    "Split dataset into train / test dataset. Calculate class weights to ensure unbiased training."
   ]
  },
  {
   "cell_type": "code",
   "execution_count": 18,
   "metadata": {},
   "outputs": [
    {
     "name": "stdout",
     "output_type": "stream",
     "text": [
      "X_train.shape: (128376, 10)\n",
      "X_test.shape: (32094, 10)\n",
      "y_train.shape: (128376, 21)\n",
      "y_test.shape: (32094, 21)\n"
     ]
    }
   ],
   "source": [
    "X_train, X_test, y_train, y_test = train_test_split(text_sequences, cat_labels, test_size=0.2, random_state=7)\n",
    "print(\"X_train.shape:\", X_train.shape)\n",
    "print(\"X_test.shape:\", X_test.shape)\n",
    "print(\"y_train.shape:\", y_train.shape)\n",
    "print(\"y_test.shape:\", y_test.shape)"
   ]
  },
  {
   "cell_type": "code",
   "execution_count": 19,
   "metadata": {},
   "outputs": [
    {
     "name": "stdout",
     "output_type": "stream",
     "text": [
      "{0: 3.1640747, 1: 6.902678, 2: 11.232478, 3: 31.760515, 4: 16.326593, 5: 12.234442, 6: 19.351221, 7: 38.47048, 8: 245.93105, 9: 28.578808, 10: 11.753891, 11: 63.61546, 12: 51.57734, 13: 88.84152, 14: 135.27502, 15: 169.80952, 16: 729.4091, 17: 282.14505, 18: 136.8614, 19: 1078.7899, 20: 1018.8571}\n"
     ]
    }
   ],
   "source": [
    "class_weights = np.reciprocal(y_train.sum(axis=0)/sum(y_train.sum(axis=0)))\n",
    "class_weights = dict(zip(range(num_classes), class_weights))\n",
    "print(class_weights)"
   ]
  },
  {
   "cell_type": "markdown",
   "metadata": {},
   "source": [
    "# ANN Model"
   ]
  },
  {
   "cell_type": "code",
   "execution_count": 89,
   "metadata": {},
   "outputs": [],
   "source": [
    "from tensorflow.keras.models import Sequential, Model\n",
    "from tensorflow.keras.layers import Dense, Flatten\n",
    "from tensorflow.keras.layers import Embedding\n",
    "from tensorflow.keras.callbacks import ModelCheckpoint, TensorBoard"
   ]
  },
  {
   "cell_type": "code",
   "execution_count": 90,
   "metadata": {},
   "outputs": [],
   "source": [
    "embedding_size = 300"
   ]
  },
  {
   "cell_type": "code",
   "execution_count": 91,
   "metadata": {},
   "outputs": [],
   "source": [
    "model = Sequential()\n",
    "model.add(Embedding(vocab_size, 300, input_length=10, weights=[E], trainable = True))\n",
    "model.add(Flatten())\n",
    "model.add(Dense(64, activation='relu'))\n",
    "model.add(Dense(21, activation='softmax'))"
   ]
  },
  {
   "cell_type": "code",
   "execution_count": 92,
   "metadata": {},
   "outputs": [],
   "source": [
    "model.compile(optimizer=\"adam\", loss=\"categorical_crossentropy\", metrics=[\"accuracy\"])"
   ]
  },
  {
   "cell_type": "code",
   "execution_count": 93,
   "metadata": {},
   "outputs": [
    {
     "name": "stdout",
     "output_type": "stream",
     "text": [
      "Model: \"sequential_2\"\n",
      "_________________________________________________________________\n",
      "Layer (type)                 Output Shape              Param #   \n",
      "=================================================================\n",
      "embedding_2 (Embedding)      (None, 10, 300)           14309700  \n",
      "_________________________________________________________________\n",
      "flatten_1 (Flatten)          (None, 3000)              0         \n",
      "_________________________________________________________________\n",
      "dense_4 (Dense)              (None, 64)                192064    \n",
      "_________________________________________________________________\n",
      "dense_5 (Dense)              (None, 21)                1365      \n",
      "=================================================================\n",
      "Total params: 14,503,129\n",
      "Trainable params: 14,503,129\n",
      "Non-trainable params: 0\n",
      "_________________________________________________________________\n"
     ]
    }
   ],
   "source": [
    "model.summary()"
   ]
  },
  {
   "cell_type": "code",
   "execution_count": 94,
   "metadata": {},
   "outputs": [],
   "source": [
    "model_checkpoint = ModelCheckpoint(\"ANN.h5\", save_best_only=True)"
   ]
  },
  {
   "cell_type": "code",
   "execution_count": 131,
   "metadata": {},
   "outputs": [
    {
     "name": "stdout",
     "output_type": "stream",
     "text": [
      "Epoch 1/5\n",
      "2006/2006 [==============================] - 277s 138ms/step - loss: 6.7980 - accuracy: 0.8571 - val_loss: 0.9844 - val_accuracy: 0.7319\n",
      "Epoch 2/5\n",
      "2006/2006 [==============================] - 312s 156ms/step - loss: 4.3833 - accuracy: 0.8927 - val_loss: 1.0114 - val_accuracy: 0.7486\n",
      "Epoch 3/5\n",
      "2006/2006 [==============================] - 308s 154ms/step - loss: 3.3249 - accuracy: 0.9147 - val_loss: 1.0782 - val_accuracy: 0.7377\n",
      "Epoch 4/5\n",
      "2006/2006 [==============================] - 316s 158ms/step - loss: 2.7662 - accuracy: 0.9268 - val_loss: 1.1185 - val_accuracy: 0.7391\n",
      "Epoch 5/5\n",
      "2006/2006 [==============================] - 307s 153ms/step - loss: 2.3984 - accuracy: 0.9365 - val_loss: 1.2436 - val_accuracy: 0.7348\n"
     ]
    }
   ],
   "source": [
    "history = model.fit(X_train, y_train, validation_data = (X_test, y_test), batch_size = 64, epochs = 5, callbacks = [model_checkpoint], class_weight=class_weights)"
   ]
  },
  {
   "cell_type": "code",
   "execution_count": 97,
   "metadata": {},
   "outputs": [
    {
     "data": {
      "image/png": "[encoded data removed]",
      "text/plain": [
       "<Figure size 432x288 with 1 Axes>"
      ]
     },
     "metadata": {
      "needs_background": "light"
     },
     "output_type": "display_data"
    }
   ],
   "source": [
    "plt.plot(history.history[\"accuracy\"])\n",
    "plt.plot(history.history[\"val_accuracy\"])\n",
    "plt.xlabel(\"Epochs\")\n",
    "plt.ylabel(\"accuracy\")\n",
    "plt.legend([\"accuracy\", \"val_accuracy\"])\n",
    "plt.show()"
   ]
  },
  {
   "cell_type": "code",
   "execution_count": 116,
   "metadata": {},
   "outputs": [
    {
     "data": {
      "text/plain": [
       "array([5, 9, 1, 0, 0], dtype=int64)"
      ]
     },
     "execution_count": 116,
     "metadata": {},
     "output_type": "execute_result"
    }
   ],
   "source": [
    "text = [\"food hut\", \"funeral services\", \"rat killer\", \"sandwich shop\", \"sloppy joes\"]\n",
    "sequences = tokenizer.texts_to_sequences(text)\n",
    "sequences = pad_sequences(sequences, maxlen = 10, padding='post', truncating='post')\n",
    "result = model.predict_on_batch(sequences)\n",
    "np.argmax(result, axis=-1)"
   ]
  },
  {
   "cell_type": "code",
   "execution_count": 125,
   "metadata": {},
   "outputs": [],
   "source": [
    "def get_predictions(text, idx2classes):\n",
    "    sequence = tokenizer.texts_to_sequences([text.lower().strip()])\n",
    "    sequence = pad_sequences(sequence, maxlen = 10, padding='post', truncating='post')\n",
    "    prediction = model.predict(sequence)\n",
    "    return idx2classes[np.argmax(prediction)]\n",
    "    "
   ]
  },
  {
   "cell_type": "code",
   "execution_count": 130,
   "metadata": {},
   "outputs": [
    {
     "data": {
      "text/plain": [
       "'public services & government'"
      ]
     },
     "execution_count": 130,
     "metadata": {},
     "output_type": "execute_result"
    }
   ],
   "source": [
    "get_predictions(\"ronnie scotts\", idx2classes)"
   ]
  },
  {
   "cell_type": "markdown",
   "metadata": {},
   "source": []
  },
  {
   "cell_type": "markdown",
   "metadata": {},
   "source": [
    "# RNN Model"
   ]
  },
  {
   "cell_type": "code",
   "execution_count": 27,
   "metadata": {},
   "outputs": [],
   "source": [
    "from tensorflow.keras.layers import Bidirectional\n",
    "from tensorflow.keras.layers import LSTM"
   ]
  },
  {
   "cell_type": "code",
   "execution_count": 28,
   "metadata": {},
   "outputs": [],
   "source": [
    "model2 = Sequential()\n",
    "model2.add(Embedding(vocab_size, 300, input_length=10, weights=[E], trainable = True))\n",
    "model2.add(Bidirectional(LSTM(max_len)))\n",
    "model2.add(Dense(64, activation='relu'))\n",
    "model2.add(Dense(21, activation='sigmoid'))"
   ]
  },
  {
   "cell_type": "code",
   "execution_count": 31,
   "metadata": {},
   "outputs": [],
   "source": [
    "model2.compile(optimizer=\"adam\", loss=\"categorical_crossentropy\", metrics=[\"accuracy\"])"
   ]
  },
  {
   "cell_type": "code",
   "execution_count": 32,
   "metadata": {},
   "outputs": [
    {
     "name": "stdout",
     "output_type": "stream",
     "text": [
      "Model: \"sequential_1\"\n",
      "_________________________________________________________________\n",
      "Layer (type)                 Output Shape              Param #   \n",
      "=================================================================\n",
      "embedding_1 (Embedding)      (None, 10, 300)           14309700  \n",
      "_________________________________________________________________\n",
      "bidirectional (Bidirectional (None, 20)                24880     \n",
      "_________________________________________________________________\n",
      "dense_2 (Dense)              (None, 64)                1344      \n",
      "_________________________________________________________________\n",
      "dense_3 (Dense)              (None, 21)                1365      \n",
      "=================================================================\n",
      "Total params: 14,337,289\n",
      "Trainable params: 14,337,289\n",
      "Non-trainable params: 0\n",
      "_________________________________________________________________\n"
     ]
    }
   ],
   "source": [
    "model2.summary()"
   ]
  },
  {
   "cell_type": "code",
   "execution_count": 33,
   "metadata": {},
   "outputs": [],
   "source": [
    "model_checkpoint = ModelCheckpoint(\"RNN.h5\", save_best_only=True)"
   ]
  },
  {
   "cell_type": "code",
   "execution_count": 34,
   "metadata": {},
   "outputs": [
    {
     "name": "stdout",
     "output_type": "stream",
     "text": [
      "Epoch 1/10\n",
      "2006/2006 [==============================] - 244s 122ms/step - loss: 31.3248 - accuracy: 0.5784 - val_loss: 1.0879 - val_accuracy: 0.7035\n",
      "Epoch 2/10\n",
      "2006/2006 [==============================] - 262s 131ms/step - loss: 15.7122 - accuracy: 0.7542 - val_loss: 1.0203 - val_accuracy: 0.7159\n",
      "Epoch 3/10\n",
      "2006/2006 [==============================] - 270s 134ms/step - loss: 9.8356 - accuracy: 0.8214 - val_loss: 1.0251 - val_accuracy: 0.7257\n",
      "Epoch 4/10\n",
      "2006/2006 [==============================] - 252s 126ms/step - loss: 6.8541 - accuracy: 0.8576 - val_loss: 0.9715 - val_accuracy: 0.7404\n",
      "Epoch 5/10\n",
      "2006/2006 [==============================] - 248s 124ms/step - loss: 5.3365 - accuracy: 0.8781 - val_loss: 1.0296 - val_accuracy: 0.7330\n",
      "Epoch 6/10\n",
      "2006/2006 [==============================] - 266s 133ms/step - loss: 4.3571 - accuracy: 0.8926 - val_loss: 1.0220 - val_accuracy: 0.7436\n",
      "Epoch 7/10\n",
      "2006/2006 [==============================] - 269s 134ms/step - loss: 3.7900 - accuracy: 0.9015 - val_loss: 1.0758 - val_accuracy: 0.7437\n",
      "Epoch 8/10\n",
      "2006/2006 [==============================] - 262s 130ms/step - loss: 3.3316 - accuracy: 0.9112 - val_loss: 1.0942 - val_accuracy: 0.7474\n",
      "Epoch 9/10\n",
      "2006/2006 [==============================] - 255s 127ms/step - loss: 3.0066 - accuracy: 0.9175 - val_loss: 1.1496 - val_accuracy: 0.7483\n",
      "Epoch 10/10\n",
      "2006/2006 [==============================] - 258s 129ms/step - loss: 2.7460 - accuracy: 0.9229 - val_loss: 1.2018 - val_accuracy: 0.7418\n"
     ]
    }
   ],
   "source": [
    "history2 = model2.fit(X_train, y_train, validation_data = (X_test, y_test), batch_size = 64, epochs = 10, callbacks = [model_checkpoint], class_weight=class_weights)"
   ]
  },
  {
   "cell_type": "code",
   "execution_count": 37,
   "metadata": {},
   "outputs": [
    {
     "data": {
      "image/png": "[encoded data removed]",
      "text/plain": [
       "<Figure size 432x288 with 1 Axes>"
      ]
     },
     "metadata": {
      "needs_background": "light"
     },
     "output_type": "display_data"
    }
   ],
   "source": [
    "plt.plot(history2.history[\"accuracy\"])\n",
    "plt.plot(history2.history[\"val_accuracy\"])\n",
    "plt.xlabel(\"Epochs\")\n",
    "plt.ylabel(\"accuracy\")\n",
    "plt.legend([\"accuracy\", \"val_accuracy\"])\n",
    "plt.show()"
   ]
  },
  {
   "cell_type": "code",
   "execution_count": null,
   "metadata": {},
   "outputs": [],
   "source": []
  },
  {
   "cell_type": "code",
   "execution_count": null,
   "metadata": {},
   "outputs": [],
   "source": []
  },
  {
   "cell_type": "code",
   "execution_count": null,
   "metadata": {},
   "outputs": [],
   "source": []
  },
  {
   "cell_type": "code",
   "execution_count": null,
   "metadata": {},
   "outputs": [],
   "source": []
  }
 ],
 "metadata": {
  "interpreter": {
   "hash": "9ec957caba7ae6ccc97a7fb0804bf14cbdb1f70a4904cd45a06dd27fe16a3b19"
  },
  "kernelspec": {
   "display_name": "Python 3.8.12 64-bit ('tensorflow': conda)",
   "language": "python",
   "name": "python3"
  },
  "language_info": {
   "codemirror_mode": {
    "name": "ipython",
    "version": 3
   },
   "file_extension": ".py",
   "mimetype": "text/x-python",
   "name": "python",
   "nbconvert_exporter": "python",
   "pygments_lexer": "ipython3",
   "version": "3.8.12"
  },
  "orig_nbformat": 4
 },
 "nbformat": 4,
 "nbformat_minor": 2
}
